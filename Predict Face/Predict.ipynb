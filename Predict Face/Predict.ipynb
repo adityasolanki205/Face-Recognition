{
 "cells": [
  {
   "cell_type": "code",
   "execution_count": 1,
   "metadata": {},
   "outputs": [
    {
     "name": "stderr",
     "output_type": "stream",
     "text": [
      "Using TensorFlow backend.\n"
     ]
    }
   ],
   "source": [
    "import tensorflow as tf\n",
    "import mtcnn\n",
    "from mtcnn import MTCNN\n",
    "import PIL\n",
    "from PIL import Image\n",
    "import numpy as np\n",
    "import pandas as pd\n",
    "from IPython.display import display\n",
    "import os\n",
    "import matplotlib.pyplot as pyplot\n",
    "from tensorflow.keras.models import load_model\n",
    "from sklearn.preprocessing import Normalizer, LabelEncoder\n",
    "from sklearn.svm import SVC\n",
    "from sklearn.metrics import accuracy_score\n",
    "import joblib "
   ]
  },
  {
   "cell_type": "code",
   "execution_count": 2,
   "metadata": {},
   "outputs": [
    {
     "name": "stdout",
     "output_type": "stream",
     "text": [
      "WARNING:tensorflow:No training configuration found in save file: the model was *not* compiled. Compile it manually.\n"
     ]
    }
   ],
   "source": [
    "FaceNet = load_model('../keras-facenet/model/facenet_keras.h5')"
   ]
  },
  {
   "cell_type": "code",
   "execution_count": 3,
   "metadata": {},
   "outputs": [],
   "source": [
    "SVM_model = joblib.load('../Face Recognition/SVM_model.pkl')"
   ]
  },
  {
   "cell_type": "code",
   "execution_count": 4,
   "metadata": {},
   "outputs": [],
   "source": [
    "normalizer = Normalizer(norm = 'l2')"
   ]
  },
  {
   "cell_type": "code",
   "execution_count": 5,
   "metadata": {},
   "outputs": [],
   "source": [
    "name = {0:'Aditya Solanki', \n",
    "        1:'Ben Afflek',\n",
    "        2:'Elton John', \n",
    "        3:'Jerry Seinfeld',\n",
    "        4:'Madonna', \n",
    "        5:'Mindy Kaling'}"
   ]
  },
  {
   "cell_type": "code",
   "execution_count": 6,
   "metadata": {},
   "outputs": [],
   "source": [
    "def predict_face(FaceNet, SVM_model, filename, normalizer):\n",
    "    image = Image.open(filename)\n",
    "    #Convert the file to RGB\n",
    "    image = image.convert('RGB')\n",
    "    #Convert the File to Numpy array to be machine readable\n",
    "    pixels = np.asarray(image)\n",
    "    #Creating a Face Detector using MTCNN\n",
    "    detector = MTCNN()\n",
    "    #Extracting Face embeddings from the Photo\n",
    "    result = detector.detect_faces(pixels)\n",
    "    #print(result)\n",
    "    x1, y1, width, height = result[0]['box']\n",
    "    x1, y1 = abs(x1) , abs(y1)\n",
    "    x2, y2 = abs(x1) + width , abs(y1) + height \n",
    "    face = pixels[y1:y2, x1:x2]\n",
    "    image = Image.fromarray(face)\n",
    "    image = image.resize((160,160))\n",
    "    face_array = np.asarray(image)\n",
    "    face_pixels = face_array.astype('float32')\n",
    "    mean, std = face_pixels.mean(), face_pixels.std()\n",
    "    face_pixels  = (face_pixels - mean)/std\n",
    "    samples = np.expand_dims(face_pixels, axis = 0)\n",
    "    output = FaceNet.predict(samples)\n",
    "    embeddings = np.asarray(output)\n",
    "    embeddings_normalized = normalizer.transform(embeddings)\n",
    "    prediction = SVM_model.predict(embeddings_normalized)\n",
    "    return name[prediction[0]]"
   ]
  },
  {
   "cell_type": "code",
   "execution_count": 15,
   "metadata": {},
   "outputs": [],
   "source": [
    "filename = ('../data/test/Ben.jpg')\n",
    "prediction = predict_face(FaceNet,SVM_model, filename, normalizer)"
   ]
  },
  {
   "cell_type": "code",
   "execution_count": 16,
   "metadata": {},
   "outputs": [
    {
     "data": {
      "text/plain": [
       "'Ben Afflek'"
      ]
     },
     "execution_count": 16,
     "metadata": {},
     "output_type": "execute_result"
    }
   ],
   "source": [
    "prediction"
   ]
  },
  {
   "cell_type": "code",
   "execution_count": null,
   "metadata": {},
   "outputs": [],
   "source": []
  }
 ],
 "metadata": {
  "kernelspec": {
   "display_name": "Python 3",
   "language": "python",
   "name": "python3"
  },
  "language_info": {
   "codemirror_mode": {
    "name": "ipython",
    "version": 3
   },
   "file_extension": ".py",
   "mimetype": "text/x-python",
   "name": "python",
   "nbconvert_exporter": "python",
   "pygments_lexer": "ipython3",
   "version": "3.7.7"
  }
 },
 "nbformat": 4,
 "nbformat_minor": 4
}
