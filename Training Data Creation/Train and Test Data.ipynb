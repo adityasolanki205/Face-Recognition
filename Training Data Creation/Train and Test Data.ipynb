{
 "cells": [
  {
   "cell_type": "code",
   "execution_count": 9,
   "metadata": {},
   "outputs": [],
   "source": [
    "import tensorflow as tf\n",
    "import mtcnn\n",
    "from mtcnn import MTCNN\n",
    "import PIL\n",
    "from PIL import Image\n",
    "import numpy as np\n",
    "import pandas as pd\n",
    "from IPython.display import display\n",
    "import os\n",
    "import matplotlib.pyplot as pyplot"
   ]
  },
  {
   "cell_type": "code",
   "execution_count": 10,
   "metadata": {},
   "outputs": [],
   "source": [
    "def extract_face(filename, detector):\n",
    "    #Open the File\n",
    "    image = Image.open(filename)\n",
    "    #print(filename)\n",
    "    #Convert the file to RGB\n",
    "    image = image.convert('RGB')\n",
    "    \n",
    "    #Convert the File to Numpy array to be machine readable\n",
    "    pixels = np.asarray(image)\n",
    "    \n",
    "    #Extracting Face embeddings from the Photo\n",
    "    result = detector.detect_faces(pixels)\n",
    "    if len(result) == 0 :\n",
    "        print ('Face in the photo {} could not be detected'.format(filename))\n",
    "        return []\n",
    "    else:\n",
    "        x1, y1, width, height = result[0]['box']\n",
    "        x1, y1 = abs(x1) , abs(y1)\n",
    "        x2, y2 = abs(x1) + width , abs(y1) + height \n",
    "        face = pixels[y1:y2, x1:x2]\n",
    "        image = Image.fromarray(face)\n",
    "        image = image.resize((160,160))\n",
    "        face_array = np.asarray(image)\n",
    "        return face_array"
   ]
  },
  {
   "cell_type": "code",
   "execution_count": 11,
   "metadata": {},
   "outputs": [],
   "source": [
    "def load_faces(directory, detector):\n",
    "    faces = list()\n",
    "    for filename in os.listdir(directory):\n",
    "        path = directory + '/' + filename \n",
    "        face = extract_face(path, detector)\n",
    "        if len(face) == 0:\n",
    "            continue\n",
    "        else:\n",
    "            faces.append(face)\n",
    "    return faces"
   ]
  },
  {
   "cell_type": "code",
   "execution_count": 12,
   "metadata": {},
   "outputs": [],
   "source": [
    "def load_dataset(directory, detector):\n",
    "    X, y = list(), list()\n",
    "    for sub_dir in os.listdir(directory):\n",
    "        path = directory + sub_dir\n",
    "        faces = load_faces(path, detector)\n",
    "        print ('Loaded {f} examples from class {c}'.format(f = len(faces), c = sub_dir))\n",
    "        labels = [sub_dir for _ in range(len(faces))]\n",
    "        X.extend(faces) \n",
    "        y.extend(labels)\n",
    "    return np.asarray(X), np.asarray(y)"
   ]
  },
  {
   "cell_type": "code",
   "execution_count": 13,
   "metadata": {},
   "outputs": [],
   "source": [
    "detector = MTCNN()"
   ]
  },
  {
   "cell_type": "code",
   "execution_count": 14,
   "metadata": {
    "scrolled": false
   },
   "outputs": [
    {
     "name": "stdout",
     "output_type": "stream",
     "text": [
      "Loaded 26 examples from class Aditya Solanki\n",
      "Loaded 14 examples from class Ben Afflek\n",
      "Loaded 17 examples from class Elton John\n",
      "Loaded 21 examples from class Jerry Seinfeld\n",
      "Loaded 19 examples from class Madonna\n",
      "Loaded 22 examples from class Mindy Kaling\n",
      "Loaded 36 examples from class Unknown\n"
     ]
    }
   ],
   "source": [
    "X_train, y_train = load_dataset('../data/train/', detector)"
   ]
  },
  {
   "cell_type": "code",
   "execution_count": 17,
   "metadata": {},
   "outputs": [
    {
     "name": "stdout",
     "output_type": "stream",
     "text": [
      "Loaded 5 examples from class Aditya Solanki\n",
      "Loaded 5 examples from class Ben Afflek\n",
      "Loaded 5 examples from class Elton John\n",
      "Loaded 5 examples from class Jerry Seinfeld\n",
      "Loaded 5 examples from class Madonna\n",
      "Loaded 5 examples from class Mindy Kaling\n",
      "Loaded 5 examples from class Unknown\n"
     ]
    }
   ],
   "source": [
    "X_test, y_test = load_dataset('../data/val/', detector)"
   ]
  },
  {
   "cell_type": "code",
   "execution_count": 19,
   "metadata": {},
   "outputs": [],
   "source": [
    "np.savez_compressed('train_test_data.npz', X_train, y_train, X_test, y_test)"
   ]
  },
  {
   "cell_type": "code",
   "execution_count": null,
   "metadata": {},
   "outputs": [],
   "source": []
  }
 ],
 "metadata": {
  "kernelspec": {
   "display_name": "Python 3",
   "language": "python",
   "name": "python3"
  },
  "language_info": {
   "codemirror_mode": {
    "name": "ipython",
    "version": 3
   },
   "file_extension": ".py",
   "mimetype": "text/x-python",
   "name": "python",
   "nbconvert_exporter": "python",
   "pygments_lexer": "ipython3",
   "version": "3.7.7"
  }
 },
 "nbformat": 4,
 "nbformat_minor": 4
}
